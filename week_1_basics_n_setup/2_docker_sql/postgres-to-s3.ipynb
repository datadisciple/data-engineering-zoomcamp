{
 "cells": [
  {
   "cell_type": "code",
   "execution_count": 41,
   "metadata": {},
   "outputs": [],
   "source": [
    "import psycopg2\n",
    "import pyarrow as pa\n",
    "from pyarrow import parquet\n",
    "import pandas as pd\n",
    "import boto3"
   ]
  },
  {
   "cell_type": "code",
   "execution_count": 45,
   "metadata": {},
   "outputs": [
    {
     "name": "stdout",
     "output_type": "stream",
     "text": [
      "Connection to PostgreSQL successful!\n"
     ]
    }
   ],
   "source": [
    "# PostgreSQL connection parameters\n",
    "postgres_params = {\n",
    "    \"host\": \"localhost\",\n",
    "    \"port\": 5432,\n",
    "    \"database\": \"ny_taxi\",\n",
    "    \"user\": \"root\",\n",
    "    \"password\": \"root\",\n",
    "}\n",
    "try:\n",
    "    # Attempt to connect to PostgreSQL\n",
    "    conn = psycopg2.connect(**postgres_params)\n",
    "    print(\"Connection to PostgreSQL successful!\")\n",
    "    # Close the connection\n",
    "    conn.close()\n",
    "except psycopg2.Error as e:\n",
    "    print(\"Error connecting to PostgreSQL:\", e)"
   ]
  },
  {
   "cell_type": "code",
   "execution_count": 50,
   "metadata": {},
   "outputs": [
    {
     "name": "stdout",
     "output_type": "stream",
     "text": [
      "Connection to S3 successful!\n"
     ]
    }
   ],
   "source": [
    "# Create a session with the specified profile\n",
    "session = boto3.Session(profile_name='bdc-aws-account')\n",
    "\n",
    "# Create an S3 client using session info\n",
    "s3_client = session.client('s3')\n",
    "\n",
    "try:\n",
    "    # List objects in the bucket\n",
    "    response = s3_client.list_objects_v2(Bucket=\"bdc-de-build-your-own-stack\")\n",
    "\n",
    "    # Check if listing was successful\n",
    "    if response[\"ResponseMetadata\"][\"HTTPStatusCode\"] == 200:\n",
    "        print(\"Connection to S3 successful!\")\n",
    "    else:\n",
    "        print(\"Error connecting to S3:\", response)\n",
    "except Exception as e:\n",
    "    print(\"Error connecting to S3:\", e)"
   ]
  },
  {
   "cell_type": "code",
   "execution_count": 51,
   "metadata": {},
   "outputs": [
    {
     "name": "stderr",
     "output_type": "stream",
     "text": [
      "/var/folders/hx/wwq6j7ln1fzb__7sk19yd3kr0000gq/T/ipykernel_41239/2478931160.py:13: UserWarning: pandas only supports SQLAlchemy connectable (engine/connection) or database string URI or sqlite3 DBAPI2 connection. Other DBAPI2 objects are not tested. Please consider using SQLAlchemy.\n",
      "  df = pd.read_sql(query, conn)\n"
     ]
    },
    {
     "name": "stdout",
     "output_type": "stream",
     "text": [
      "Parquet file uploaded to S3 successfully!\n"
     ]
    }
   ],
   "source": [
    "# S3 connection parameters\n",
    "s3_bucket_name = \"bdc-de-build-your-own-stack\"\n",
    "s3_prefix = \"batch-data-ingestion/sean-meehan/\"\n",
    "\n",
    "try:\n",
    "    # Connect to PostgreSQL\n",
    "    conn = psycopg2.connect(**postgres_params)\n",
    "\n",
    "    # Query to extract first 1000 rows from yellow_taxi_data table\n",
    "    query = \"SELECT * FROM public.yellow_taxi_data LIMIT 1000;\"\n",
    "\n",
    "    # Execute the query and fetch the results into a DataFrame\n",
    "    df = pd.read_sql(query, conn)\n",
    "\n",
    "    # Close the PostgreSQL connection\n",
    "    conn.close()\n",
    "\n",
    "    # Write the DataFrame to a Parquet file\n",
    "    parquet_file = \"/tmp/yellow_taxi_data_first_1000_rows.parquet\"\n",
    "    df.to_parquet(parquet_file)\n",
    "\n",
    "    # Upload the Parquet file to S3\n",
    "    with open(parquet_file, 'rb') as data:\n",
    "        s3_client.upload_fileobj(data, s3_bucket_name, s3_prefix + \"yellow_taxi_data_first_1000_rows.parquet\")\n",
    "        \n",
    "    print(\"Parquet file uploaded to S3 successfully!\")\n",
    "\n",
    "except Exception as e:\n",
    "    print(\"Error:\", e)"
   ]
  }
 ],
 "metadata": {
  "kernelspec": {
   "display_name": "Python 3",
   "language": "python",
   "name": "python3"
  },
  "language_info": {
   "codemirror_mode": {
    "name": "ipython",
    "version": 3
   },
   "file_extension": ".py",
   "mimetype": "text/x-python",
   "name": "python",
   "nbconvert_exporter": "python",
   "pygments_lexer": "ipython3",
   "version": "3.10.11"
  }
 },
 "nbformat": 4,
 "nbformat_minor": 2
}
